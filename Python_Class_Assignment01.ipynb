{
  "nbformat": 4,
  "nbformat_minor": 0,
  "metadata": {
    "colab": {
      "provenance": [],
      "authorship_tag": "ABX9TyNw/E7S5e6dR6t/7fxHjd8f",
      "include_colab_link": true
    },
    "kernelspec": {
      "name": "python3",
      "display_name": "Python 3"
    },
    "language_info": {
      "name": "python"
    }
  },
  "cells": [
    {
      "cell_type": "markdown",
      "metadata": {
        "id": "view-in-github",
        "colab_type": "text"
      },
      "source": [
        "<a href=\"https://colab.research.google.com/github/Galaxyjunction/Class-Assignment01-using-Python/blob/main/Python_Class_Assignment01.ipynb\" target=\"_parent\"><img src=\"https://colab.research.google.com/assets/colab-badge.svg\" alt=\"Open In Colab\"/></a>"
      ]
    },
    {
      "cell_type": "markdown",
      "source": [],
      "metadata": {
        "id": "q_p0Mad_196u"
      }
    },
    {
      "cell_type": "markdown",
      "source": [
        "Name : Kehkashan Ahad\n",
        "\n",
        "Rol no.: 434132\n",
        "\n",
        "Class_ Assoignment 01:\n",
        "\n",
        "* Python Strings Assignment\n",
        "Part 1: Understanding String Literals\n",
        "1. Create three different strings using each type of quotation: o Single quotes ('example') o Double quotes (\"example\") o Triple quotes\n",
        "(\"\"\"example\"\"\")"
      ],
      "metadata": {
        "id": "KvMNgvTp2PJL"
      }
    },
    {
      "cell_type": "code",
      "source": [
        "# Single quotes\n",
        "hello = 'Hello, world!'\n",
        "print(hello)"
      ],
      "metadata": {
        "colab": {
          "base_uri": "https://localhost:8080/"
        },
        "id": "zXToWOrP3or2",
        "outputId": "c5bcffbf-9d9e-43df-e2bf-0712fab6cb10"
      },
      "execution_count": null,
      "outputs": [
        {
          "output_type": "stream",
          "name": "stdout",
          "text": [
            "Hello, world!\n"
          ]
        }
      ]
    },
    {
      "cell_type": "code",
      "source": [
        "# Double quotes\n",
        "python = \"I am Learning Python and Python is fun!\"\n",
        "print(python)\n"
      ],
      "metadata": {
        "colab": {
          "base_uri": "https://localhost:8080/"
        },
        "id": "dtLRkCWA4wlz",
        "outputId": "4696f81a-38fb-43eb-c101-e39585adc482"
      },
      "execution_count": null,
      "outputs": [
        {
          "output_type": "stream",
          "name": "stdout",
          "text": [
            "I am Learning Python and Python is fun!\n"
          ]
        }
      ]
    },
    {
      "cell_type": "code",
      "source": [
        "# Triple quotes (used for multi-line or docstrings)\n",
        "python_journey =\"\"\"My journey with Python has been incredible!\n",
        "At first, I found it challenging, but as I practiced, it became more intuitive.\n",
        "I started with basic syntax, then moved on to functions, loops, and object-oriented programming.\n",
        "Python continues to amaze me with its simplicity and versatility,\n",
        "and I can't wait to build more exciting projects!\"\"\"\n",
        "\n",
        "print(python_journey)"
      ],
      "metadata": {
        "colab": {
          "base_uri": "https://localhost:8080/"
        },
        "id": "Cht8tZUe43cW",
        "outputId": "128f40c0-8e55-411a-d44c-ce190e0feed4"
      },
      "execution_count": null,
      "outputs": [
        {
          "output_type": "stream",
          "name": "stdout",
          "text": [
            "My journey with Python has been incredible! \n",
            "At first, I found it challenging, but as I practiced, it became more intuitive. \n",
            "I started with basic syntax, then moved on to functions, loops, and object-oriented programming.\n",
            "Python continues to amaze me with its simplicity and versatility, \n",
            "and I can't wait to build more exciting projects!\n"
          ]
        }
      ]
    },
    {
      "cell_type": "markdown",
      "source": [
        "2. Explain in your own words: What is the advantage of each type of quotation?\n",
        "\n",
        "=> In Python, there are three types of quotations:\n",
        "\n",
        "*Single Quotes (' ')\n",
        "*Double Quotes (\" \")\n",
        "*Triple Quotes (''' ''' or \"\"\" \"\"\")\n",
        "\n",
        "Each type has its own advantages:\n",
        "\n",
        "1. Single Quotes (' ') :\n",
        "Single quotes are useful for short strings and are helpful when you need to include double quotes inside the string.\n",
        "Example:"
      ],
      "metadata": {
        "id": "2lxGWC9Y7P1R"
      }
    },
    {
      "cell_type": "code",
      "source": [
        "message = 'She said, \"Python is fun!\"'\n",
        "print(message)"
      ],
      "metadata": {
        "colab": {
          "base_uri": "https://localhost:8080/"
        },
        "id": "64Igq-0t8zvi",
        "outputId": "07282d83-912e-46ae-a150-5b9afb7bf50f"
      },
      "execution_count": null,
      "outputs": [
        {
          "output_type": "stream",
          "name": "stdout",
          "text": [
            "She said, \"Python is fun!\"\n"
          ]
        }
      ]
    },
    {
      "cell_type": "markdown",
      "source": [
        "2. Double Quotes (\" \") :\n",
        "Double quotes are commonly used for longer text and help avoid conflicts when single quotes are inside the string.\n",
        "\n",
        "Example:"
      ],
      "metadata": {
        "id": "W5V6Fqie9gt3"
      }
    },
    {
      "cell_type": "code",
      "source": [
        "quote = \"It's a beautiful day to learn Python!\"\n",
        "print(quote)\n"
      ],
      "metadata": {
        "colab": {
          "base_uri": "https://localhost:8080/"
        },
        "id": "jIhlqq9n-AtC",
        "outputId": "c7d84a96-ac7d-4089-f6a8-d2b52c59dec8"
      },
      "execution_count": null,
      "outputs": [
        {
          "output_type": "stream",
          "name": "stdout",
          "text": [
            "It's a beautiful day to learn Python!\n"
          ]
        }
      ]
    },
    {
      "cell_type": "markdown",
      "source": [
        "3. Triple quotes (\"\"\"  \"\"\"):\n",
        "Triple quotes are best for multi-line strings and documentation (docstrings). They allow you to write strings that span multiple lines without using escape characters.\n",
        "\n",
        "Example:"
      ],
      "metadata": {
        "id": "3UzwwIyF-KF2"
      }
    },
    {
      "cell_type": "code",
      "source": [
        "description = \"\"\"Python is an amazing language.\n",
        "It is widely used in web development, data science, and automation.\n",
        "Learning Python opens up many career opportunities!\"\"\"\n",
        "print(description)\n"
      ],
      "metadata": {
        "colab": {
          "base_uri": "https://localhost:8080/"
        },
        "id": "uhZeJGA4-p96",
        "outputId": "83768809-1d89-43e6-866b-a57c7243177d"
      },
      "execution_count": null,
      "outputs": [
        {
          "output_type": "stream",
          "name": "stdout",
          "text": [
            "Python is an amazing language.\n",
            "It is widely used in web development, data science, and automation.\n",
            "Learning Python opens up many career opportunities!\n"
          ]
        }
      ]
    },
    {
      "cell_type": "markdown",
      "source": [
        "This is how different types of quotes are used in Python!"
      ],
      "metadata": {
        "id": "roCyKnSz-tcr"
      }
    },
    {
      "cell_type": "markdown",
      "source": [
        "3. Write a string that contains both single and double quotes inside it.\n",
        "\n",
        "* String with both single and double quotes:\n"
      ],
      "metadata": {
        "id": "GKR5WNE__WHs"
      }
    },
    {
      "cell_type": "code",
      "source": [
        "quote_string = 'She said, \"I\\'m learning Python!\"'\n",
        "print(quote_string)"
      ],
      "metadata": {
        "colab": {
          "base_uri": "https://localhost:8080/"
        },
        "id": "03BGV_Nl_8SS",
        "outputId": "2a7b3b3b-b5f4-4276-e304-0449af1717f0"
      },
      "execution_count": null,
      "outputs": [
        {
          "output_type": "stream",
          "name": "stdout",
          "text": [
            "She said, \"I'm learning Python!\"\n"
          ]
        }
      ]
    },
    {
      "cell_type": "markdown",
      "source": [
        "4. Create a multi-line string using triple quotes that describes your favorite hobby.\n",
        "\n",
        "* String using triple quotes which decribes my hobby:"
      ],
      "metadata": {
        "id": "jpCSLCZYAUqr"
      }
    },
    {
      "cell_type": "code",
      "source": [
        "hobby = \"\"\"I love coding because it allows me to solve problems creatively.\n",
        "I enjoy building web applications and learning new programming languages.\n",
        "It's exciting to see my code come to life!\"\"\"\n",
        "print(hobby)"
      ],
      "metadata": {
        "colab": {
          "base_uri": "https://localhost:8080/"
        },
        "id": "SQRjcSDeA71W",
        "outputId": "b2b5e742-ab12-4488-9fb3-b2dddba3885c"
      },
      "execution_count": null,
      "outputs": [
        {
          "output_type": "stream",
          "name": "stdout",
          "text": [
            "I love coding because it allows me to solve problems creatively.\n",
            "I enjoy building web applications and learning new programming languages.\n",
            "It's exciting to see my code come to life!\n"
          ]
        }
      ]
    },
    {
      "cell_type": "markdown",
      "source": [
        "Part 2: String Methods Practice\n",
        "1. Create a variable full_name with your full name (first and last name). Then write code\n",
        "to:\n",
        "o Print your name in all uppercase letters\n",
        "o Print your name in all lowercase letters\n",
        "o Print your name with the first letter of each name capitalized"
      ],
      "metadata": {
        "id": "Elx-xxIwBRzF"
      }
    },
    {
      "cell_type": "code",
      "source": [
        "full_name = \"Kehkashan Ahad\"\n",
        "\n",
        "print(full_name.upper())  # Uppercase\n",
        "print(full_name.lower())  # Lowercase\n",
        "print(full_name.title())  # Capitalize first letters"
      ],
      "metadata": {
        "colab": {
          "base_uri": "https://localhost:8080/"
        },
        "id": "bRlXkwPLBTKu",
        "outputId": "a873f56d-6912-4064-e2ea-8de4b491a2a9"
      },
      "execution_count": null,
      "outputs": [
        {
          "output_type": "stream",
          "name": "stdout",
          "text": [
            "KEHKASHAN AHAD\n",
            "kehkashan ahad\n",
            "Kehkashan Ahad\n"
          ]
        }
      ]
    },
    {
      "cell_type": "markdown",
      "source": [
        "2. Create a variable messy_text = \" Python programming is fun! \" Then write code\n",
        "to:\n",
        "* Remove all the extra spaces at the beginning and end\n",
        "* Replace \"fun\" with \"amazing\"\n",
        "* Count how many times the letter 'i' appears"
      ],
      "metadata": {
        "id": "kBu5Jr2-B1ug"
      }
    },
    {
      "cell_type": "code",
      "source": [
        "messy_text = \" Python programming is fun! \"\n",
        "\n",
        "# Removing spaces\n",
        "clean_text = messy_text.strip()\n",
        "print(clean_text)\n",
        "\n",
        "# Replacing \"fun\" with \"amazing\"\n",
        "updated_text = clean_text.replace(\"fun\", \"amazing\")\n",
        "print(updated_text)\n",
        "\n",
        "# Counting occurrences of 'i'\n",
        "count = clean_text.count('i')\n",
        "print(f\"Number of 'i' letters: {count}\")"
      ],
      "metadata": {
        "colab": {
          "base_uri": "https://localhost:8080/"
        },
        "id": "L1XtuyPCCAv_",
        "outputId": "4a25531b-073b-4a3b-a012-d8c57d882ab7"
      },
      "execution_count": null,
      "outputs": [
        {
          "output_type": "stream",
          "name": "stdout",
          "text": [
            "Python programming is fun!\n",
            "Python programming is amazing!\n",
            "Number of 'i' letters: 2\n"
          ]
        }
      ]
    },
    {
      "cell_type": "markdown",
      "source": [
        "3. Create a variable sentence = \"The quick brown fox jumps over the lazy dog\"\n",
        "Then write code to:\n",
        "* Split this sentence into a list of words\n",
        "* Join the words back together with dashes between them\n",
        "* Check if the sentence starts with \"The\"\n",
        "* Find the position of the word \"fox"
      ],
      "metadata": {
        "id": "AdOR0N3vDCSn"
      }
    },
    {
      "cell_type": "code",
      "source": [
        "sentence = \"The quick brown fox jumps over the lazy dog\"\n",
        "\n",
        "# Splitting into words\n",
        "words = sentence.split()\n",
        "print(words)\n",
        "\n",
        "# Joining words with dashes\n",
        "dashed_sentence = \"-\".join(words)\n",
        "print(dashed_sentence)\n",
        "\n",
        "# Checking if it starts with \"The\"\n",
        "starts_with_the = sentence.startswith(\"The\")\n",
        "print(starts_with_the)\n",
        "\n",
        "# Finding position of \"fox\"\n",
        "position = sentence.find(\"fox\")\n",
        "print(f\"'fox' is at position: {position}\")"
      ],
      "metadata": {
        "colab": {
          "base_uri": "https://localhost:8080/"
        },
        "id": "CmpgUEHNDPwI",
        "outputId": "621e3a0e-37fd-4624-8723-9a999e5d33b3"
      },
      "execution_count": null,
      "outputs": [
        {
          "output_type": "stream",
          "name": "stdout",
          "text": [
            "['The', 'quick', 'brown', 'fox', 'jumps', 'over', 'the', 'lazy', 'dog']\n",
            "The-quick-brown-fox-jumps-over-the-lazy-dog\n",
            "True\n",
            "'fox' is at position: 16\n"
          ]
        }
      ]
    },
    {
      "cell_type": "markdown",
      "source": [
        "Part 3: F-Strings\n",
        "1. Create variables for:\n",
        "* Your Name\n",
        "* Your Age\n",
        "* Your Favorite Programming Language"
      ],
      "metadata": {
        "id": "yTwrjVgOEqFo"
      }
    },
    {
      "cell_type": "code",
      "source": [
        "# Creating variables\n",
        "\n",
        "name = \"kehkashan\"\n",
        "age = 30\n",
        "favorite_language = \"Python\"\n",
        "print(\"Name:\", name)\n",
        "print(\"Age:\", age)\n",
        "print(\"Favorite Programming Language:\", favorite_language)"
      ],
      "metadata": {
        "colab": {
          "base_uri": "https://localhost:8080/"
        },
        "id": "34oAK4egErHN",
        "outputId": "d9c1e4cc-5417-4737-ecf1-0457b0a90ff2"
      },
      "execution_count": null,
      "outputs": [
        {
          "output_type": "stream",
          "name": "stdout",
          "text": [
            "Name: kehkashan\n",
            "Age: 30\n",
            "Favorite Programming Language: Python\n"
          ]
        }
      ]
    },
    {
      "cell_type": "markdown",
      "source": [
        "Then use f-strings to create these sentences:\n",
        "* \"My name is {your_name} and I am {your_age} years old.\"\n",
        "* \"I enjoy programming in {language}, it's my favorite!\"\n",
        "* Create a math expression inside an f-string: \"In 5 years, I will be {age + 5} years old."
      ],
      "metadata": {
        "id": "xYSS_dLFGqKp"
      }
    },
    {
      "cell_type": "code",
      "source": [
        "name = \"kehkashan\"\n",
        "age = 30\n",
        "language = \"Python\"\n",
        "\n",
        "print(f\"My name is {name} and I am {age} years old.\")\n",
        "print(f\"I enjoy programming in {language}, it's my favorite!\")\n",
        "print(f\"In 5 years i will be {age + 5} years old.\")"
      ],
      "metadata": {
        "colab": {
          "base_uri": "https://localhost:8080/"
        },
        "id": "P9qv8YKNG5sc",
        "outputId": "3900f356-f10f-4cea-809a-5e8297941fcd"
      },
      "execution_count": null,
      "outputs": [
        {
          "output_type": "stream",
          "name": "stdout",
          "text": [
            "My name is kehkashan and I am 30 years old.\n",
            "I enjoy programming in Python, it's my favorite!\n",
            "In 5 years i will be 35 years old.\n"
          ]
        }
      ]
    },
    {
      "cell_type": "markdown",
      "source": [
        "Part 4: Combining String Methods with F-Strings\n",
        "Create a program that:\n",
        "1. Asks for user input about their first name, last name, and birth year\n",
        "2. Uses string methods to properly capitalize their name\n",
        "3. Uses f-strings to create a profile message: \"Profile: {First Last}, Age: {calculated age}, Username: {first initial + last name + birth year}"
      ],
      "metadata": {
        "id": "_LVsJNMnH2cS"
      }
    },
    {
      "cell_type": "code",
      "source": [
        "#Getting user input\n",
        "\n",
        "first_name = input(\"Enter your first name: \").strip().title()\n",
        "last_name = input(\"Enter your last name: \").strip().title()\n",
        "birth_year = input(\"Enter your birth year: \").strip()\n",
        "\n",
        "#Calculating your age (assuming current year in 2025)\n",
        "age = 2025 - int(birth_year)\n",
        "\n",
        "#Creating username\n",
        "username = f\"{first_name[0].lower()}{last_name.lower()}{birth_year}\"\n",
        "\n",
        "#Printing profile message\n",
        "print(f\"Profile: {first_name}{last_name}, Age: {age}, Username: {username} \")\n"
      ],
      "metadata": {
        "colab": {
          "base_uri": "https://localhost:8080/"
        },
        "id": "Ktdvx49vICXV",
        "outputId": "4083f164-3d60-48fa-dfff-8c1697e578f2"
      },
      "execution_count": null,
      "outputs": [
        {
          "output_type": "stream",
          "name": "stdout",
          "text": [
            "Enter your first name: Kehkashan\n",
            "Enter your last name: Ahad\n",
            "Enter your birth year: 1995\n",
            "Profile: KehkashanAhad, Age: 30, Username: kahad1995 \n"
          ]
        }
      ]
    },
    {
      "cell_type": "code",
      "source": [],
      "metadata": {
        "id": "dY0h8QlzKryf"
      },
      "execution_count": null,
      "outputs": []
    }
  ]
}